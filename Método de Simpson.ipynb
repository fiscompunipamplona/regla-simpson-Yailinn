{
 "cells": [
  {
   "cell_type": "markdown",
   "metadata": {},
   "source": [
    "# CÁLCULO DE INTEGRALES"
   ]
  },
  {
   "cell_type": "markdown",
   "metadata": {},
   "source": [
    "Resolver la integral $\\int_{0}^{2} (x^{4}-2x+1) dx$"
   ]
  },
  {
   "cell_type": "markdown",
   "metadata": {},
   "source": [
    "* **Método de Simpson**"
   ]
  },
  {
   "cell_type": "code",
   "execution_count": 18,
   "metadata": {},
   "outputs": [
    {
     "name": "stdout",
     "output_type": "stream",
     "text": [
      "PARA EL MÉTODO DE SIMPSON\n",
      "El valor de la integral, calculado computacionalmente, es I = 4.400000042666668\n",
      "El valor de la integral analítica es I = 4.4\n",
      "El error es e = 9.696969893724372e-07\n"
     ]
    }
   ],
   "source": [
    "N=100\n",
    "a=0\n",
    "b=2\n",
    "h=(b-a)/N\n",
    "it1=0\n",
    "it2=0\n",
    "for k in range(1,(N//2)+1):\n",
    "    x1=a+(2*k-1)*h\n",
    "    y1=(x1**4-(2*x1)+1)\n",
    "    it1+=y1\n",
    "for k in range(1,((N//2)-1)+1):\n",
    "    x2=a+(2*k*h)\n",
    "    y2=(x2**4-(2*x2)+1)\n",
    "    it2+=y2\n",
    "I=4*it1+2*it2\n",
    "It=(h/3)*((a**4-2*a+1+b**4-2*b+1)+I)\n",
    "print('PARA EL MÉTODO DE SIMPSON\\nEl valor de la integral, calculado computacionalmente, es I =',It)\n",
    "print('El valor de la integral analítica es I =', 4.4)\n",
    "error=abs((1-(It/4.4)))\n",
    "print('El error es e =',error*100)"
   ]
  },
  {
   "cell_type": "code",
   "execution_count": 19,
   "metadata": {},
   "outputs": [
    {
     "name": "stdout",
     "output_type": "stream",
     "text": [
      "PARA EL MÉTODO DE SIMPSON\n",
      "El valor de la integral, calculado computacionalmente, es I = 4.400000000004267\n",
      "El valor de la integral analítica es I = 4.4\n",
      "El error es e = 9.696687897076117e-11\n"
     ]
    }
   ],
   "source": [
    "N=1000\n",
    "a=0\n",
    "b=2\n",
    "h=(b-a)/N\n",
    "it1=0\n",
    "it2=0\n",
    "for k in range(1,(N//2)+1):\n",
    "    x1=a+(2*k-1)*h\n",
    "    y1=(x1**4-(2*x1)+1)\n",
    "    it1+=y1\n",
    "for k in range(1,((N//2)-1)+1):\n",
    "    x2=a+(2*k*h)\n",
    "    y2=(x2**4-(2*x2)+1)\n",
    "    it2+=y2\n",
    "I=4*it1+2*it2\n",
    "It=(h/3)*((a**4-2*a+1+b**4-2*b+1)+I)\n",
    "print('PARA EL MÉTODO DE SIMPSON\\nEl valor de la integral, calculado computacionalmente, es I =',It)\n",
    "print('El valor de la integral analítica es I =', 4.4)\n",
    "error=abs((1-(It/4.4)))\n",
    "print('El error es e =',error*100)"
   ]
  },
  {
   "cell_type": "markdown",
   "metadata": {},
   "source": [
    "* **Método del trapezoide**"
   ]
  },
  {
   "cell_type": "code",
   "execution_count": 20,
   "metadata": {},
   "outputs": [
    {
     "name": "stdout",
     "output_type": "stream",
     "text": [
      "PARA EL MÉTODO DEL TRAPECIO\n",
      "El valor de la integral, calculado computacionalmente, es I = 4.1528759328\n",
      "El valor de la integral analítica es I = 4.4\n",
      "El error es e = 5.616456072727283\n"
     ]
    }
   ],
   "source": [
    "N=100\n",
    "a=0\n",
    "b=2\n",
    "h=(b-a)/N\n",
    "it=0\n",
    "for k in range(1,N-1):\n",
    "    x=a+k*h\n",
    "    y=(x**4-(2*x)+1)\n",
    "    it+=h*y\n",
    "It=(h/2)*(a**4-(2*a)+1+b**4-(2*b)+1)+it\n",
    "print('PARA EL MÉTODO DEL TRAPECIO\\nEl valor de la integral, calculado computacionalmente, es I =',It)\n",
    "print('El valor de la integral analítica es I =', 4.4)\n",
    "error=abs((1-(It/4.4)))\n",
    "print('El error es e =',error*100)"
   ]
  },
  {
   "cell_type": "code",
   "execution_count": 21,
   "metadata": {},
   "outputs": [
    {
     "name": "stdout",
     "output_type": "stream",
     "text": [
      "PARA EL MÉTODO DEL TRAPECIO\n",
      "El valor de la integral, calculado computacionalmente, es I = 4.374130474793567\n",
      "El valor de la integral analítica es I = 4.4\n",
      "El error es e = 0.5879437546916666\n"
     ]
    }
   ],
   "source": [
    "N=1000\n",
    "a=0\n",
    "b=2\n",
    "h=(b-a)/N\n",
    "it=0\n",
    "for k in range(1,N-1):\n",
    "    x=a+k*h\n",
    "    y=(x**4-(2*x)+1)\n",
    "    it+=h*y\n",
    "It=(h/2)*(a**4-(2*a)+1+b**4-(2*b)+1)+it\n",
    "print('PARA EL MÉTODO DEL TRAPECIO\\nEl valor de la integral, calculado computacionalmente, es I =',It)\n",
    "print('El valor de la integral analítica es I =', 4.4)\n",
    "error=abs((1-(It/4.4)))\n",
    "print('El error es e =',error*100)"
   ]
  },
  {
   "cell_type": "markdown",
   "metadata": {},
   "source": [
    "Observando los resultados de ambos métodos, con **$N=1000$** para más exactitud, se observa claramente que el de Simpson es mucho más preciso, notándose esto en los errores calculados. Esto se debe a que el método de Simpson consiste en calcular el área bajo una serie de parábolas que se hace mucho más precisa respecto a la función $f(x)$ al aumentar $N$, a diferencia del método del trapecio, donde el área se calcula sin tener en cuenta una curva suave como la de una parábola."
   ]
  },
  {
   "cell_type": "markdown",
   "metadata": {},
   "source": [
    "  * **Espectro de difracción**"
   ]
  },
  {
   "cell_type": "code",
   "execution_count": 51,
   "metadata": {},
   "outputs": [
    {
     "name": "stdout",
     "output_type": "stream",
     "text": [
      "Para x= 0 , I= 0.999999999999998\n",
      "Para x= 1 , I= 1.7645310198913005\n",
      "Para x= 2 , I= 1.9877551323658675\n",
      "Para x= 3 , I= 1.7270365107972707\n",
      "Para x= 4 , I= 1.3292200342667568\n",
      "Para x= 5 , I= 1.1509565962857504\n",
      "Para x= 6 , I= 1.3009351868700811\n",
      "Para x= 7 , I= 1.60034779072297\n",
      "Para x= 8 , I= 1.7713319311938565\n",
      "Para x= 9 , I= 1.6803316533443104\n",
      "Para x= 10 , I= 1.4337292222262925\n",
      "Para x= 11 , I= 1.2618722551524308\n",
      "Para x= 12 , I= 1.3088948992825982\n",
      "Para x= 13 , I= 1.5151543349929997\n",
      "Para x= 14 , I= 1.6855611444367926\n",
      "Para x= 15 , I= 1.6706700049433425\n",
      "Para x= 16 , I= 1.4951042642930465\n",
      "Para x= 17 , I= 1.3245833454751963\n",
      "Para x= 18 , I= 1.3105608730865466\n",
      "Para x= 19 , I= 1.456523646079532\n",
      "Para x= 20 , I= 1.6228816437534483\n"
     ]
    }
   ],
   "source": [
    "from math import*\n",
    "from numpy import*\n",
    "N=1000\n",
    "a=0\n",
    "b=pi\n",
    "h=(b-a)/N\n",
    "it1=0\n",
    "it2=0\n",
    "m=0\n",
    "for x in range(0,21,1):\n",
    "    for k in range(1,(N//2)+1):\n",
    "        theta1=a+(2*k-1)*h\n",
    "        y1=(h/(3*pi))*(cos(m*theta1-x*sin(theta1)))\n",
    "        it1+=y1\n",
    "    for k in range(1,((N//2)-1)+1):\n",
    "        theta2=a+(2*k*h)\n",
    "        y2=(h/(3*pi))*(cos(m*theta2-x*sin(theta2)))\n",
    "        it2+=y2\n",
    "    I=4*it1+2*it2\n",
    "    It=(h/3)*(1/pi)*(cos(m*a-x*sin(a))+cos(m*b-x*sin(b)))+I\n",
    "    #print('PARA EL MÉTODO DE SIMPSON\\nEl valor de la integral, calculado computacionalmente, es I = ')\n",
    "    print('Para x=',x,', I=',It)\n",
    "#print('El valor de la integral analítica es I =', 4.4)1\n",
    "#error=abs((1-(It/4.4)))\n",
    "#print('El error es e =',error*100)"
   ]
  },
  {
   "cell_type": "code",
   "execution_count": null,
   "metadata": {},
   "outputs": [],
   "source": []
  }
 ],
 "metadata": {
  "kernelspec": {
   "display_name": "Python 3",
   "language": "python",
   "name": "python3"
  },
  "language_info": {
   "codemirror_mode": {
    "name": "ipython",
    "version": 3
   },
   "file_extension": ".py",
   "mimetype": "text/x-python",
   "name": "python",
   "nbconvert_exporter": "python",
   "pygments_lexer": "ipython3",
   "version": "3.5.2"
  }
 },
 "nbformat": 4,
 "nbformat_minor": 2
}
